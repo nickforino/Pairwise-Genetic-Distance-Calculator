{
 "cells": [
  {
   "cell_type": "code",
   "execution_count": 1,
   "metadata": {
    "collapsed": true
   },
   "outputs": [],
   "source": [
    "import numpy as np"
   ]
  },
  {
   "cell_type": "code",
   "execution_count": 2,
   "metadata": {
    "collapsed": false
   },
   "outputs": [],
   "source": [
    "# DNA sequences\n",
    "S1 = np.array(['A','T','G','G','A','T','T','A','C','A','C','A','C','G','G','A','T','G','T','A','C','A',\n",
    "               'A','T','A','A','T','G','C','T','A','A','G','C','G'])\n",
    "S2 = np.array(['A','T','G','A','G','C','T','-','-','A','C','A','C','G','A','A','T','T','T','A','C','A','T','T',\n",
    "               '-','A','G','G','A','C','A','T','G','C','G'])\n",
    "S3 = np.array(['A','T','G','A','T','A','A','A','C','A','C','A','G','G','G','A','T','G','T','T','C','A',\n",
    "               'A','T','A','A','T','G','C','T','A','G','G','C','G'])\n",
    "S4 = np.array(['A','T','G','A','T','A','A','-','-','-','-','A','C','G','G','A','T','T','T','T','C','A','A','T','A','A',\n",
    "               'G','G','C','T','T','G','G','C','A'])\n",
    "\n",
    "sequence_array = np.array([S1, S2, S3, S4])"
   ]
  },
  {
   "cell_type": "code",
   "execution_count": 54,
   "metadata": {
    "collapsed": false
   },
   "outputs": [],
   "source": [
    "# function to compute pairwise distance while ignoring INDELS\n",
    "\n",
    "def pairwise_distance_no_indel(sequence_1, sequence_2):\n",
    "    # calculates the no. of indels\n",
    "    indels_1 = 0\n",
    "    for i in range(len(sequence_1)):\n",
    "        if sequence_1[i] == str('-'):\n",
    "            indels_1 = indels_1 + 1\n",
    "    \n",
    "    indels_2 = 0       \n",
    "    for j in range(len(sequence_2)):\n",
    "        if sequence_2[j] == str('-'):\n",
    "            indels_2 = indels_2 +1\n",
    "            \n",
    "    if indels_1 > indels_2:\n",
    "        indels = indels_1\n",
    "    else:\n",
    "        indels = indels_2\n",
    "    \n",
    "    N = 0\n",
    "    L = len(sequence_1) - indels\n",
    "    \n",
    "    for k in range(len(sequence_1)):\n",
    "        if sequence_1[k] == sequence_2[k]:\n",
    "            pass\n",
    "        elif sequence_1[k] == str('-'):\n",
    "            pass\n",
    "        elif sequence_2[k] == str('-'):\n",
    "            pass\n",
    "        else:\n",
    "            N = N+1\n",
    "            \n",
    "    return ((N)/L)"
   ]
  },
  {
   "cell_type": "code",
   "execution_count": 55,
   "metadata": {
    "collapsed": true
   },
   "outputs": [],
   "source": [
    "# function to compute pairwise distance using INDELS\n",
    "\n",
    "def pairwise_distance_with_indel(sequence_1, sequence_2):\n",
    "   \n",
    "    N = 0\n",
    "    L = len(sequence_1)\n",
    "    \n",
    "    for k in range(len(sequence_1)):\n",
    "        if sequence_1[k] == sequence_2[k]:\n",
    "            pass\n",
    "        else:\n",
    "            N = N+1\n",
    "            \n",
    "    return ((N)/L)"
   ]
  },
  {
   "cell_type": "code",
   "execution_count": 98,
   "metadata": {
    "collapsed": false
   },
   "outputs": [],
   "source": [
    "# program that computes the full matrix of pairwise distances for all four sequences\n",
    "\n",
    "def matrix_distance(x):\n",
    "    \n",
    "    distance = []\n",
    "    \n",
    "    for i in range(4):\n",
    "        sequence_1 = sequence_array[i]\n",
    "        \n",
    "        for j in range(4):\n",
    "            sequence_2 = sequence_array[j]\n",
    "            distance =np.append(distance, x(sequence_1,sequence_2))\n",
    "    \n",
    "    return print('Matrix of pairwise distances'), print(np.reshape(distance, (4,4)))"
   ]
  },
  {
   "cell_type": "code",
   "execution_count": 99,
   "metadata": {
    "collapsed": false
   },
   "outputs": [
    {
     "name": "stdout",
     "output_type": "stream",
     "text": [
      "Matrix of pairwise distances\n",
      "[[ 0.          0.3125      0.2         0.32258065]\n",
      " [ 0.3125      0.          0.375       0.35483871]\n",
      " [ 0.2         0.375       0.          0.16129032]\n",
      " [ 0.32258065  0.35483871  0.16129032  0.        ]]\n"
     ]
    },
    {
     "data": {
      "text/plain": [
       "(None, None)"
      ]
     },
     "execution_count": 99,
     "metadata": {},
     "output_type": "execute_result"
    }
   ],
   "source": [
    "matrix_distance(pairwise_distance_no_indel)"
   ]
  },
  {
   "cell_type": "code",
   "execution_count": 100,
   "metadata": {
    "collapsed": false
   },
   "outputs": [
    {
     "name": "stdout",
     "output_type": "stream",
     "text": [
      "Matrix of pairwise distances\n",
      "[[ 0.          0.37142857  0.2         0.4       ]\n",
      " [ 0.37142857  0.          0.42857143  0.4       ]\n",
      " [ 0.2         0.42857143  0.          0.25714286]\n",
      " [ 0.4         0.4         0.25714286  0.        ]]\n"
     ]
    },
    {
     "data": {
      "text/plain": [
       "(None, None)"
      ]
     },
     "execution_count": 100,
     "metadata": {},
     "output_type": "execute_result"
    }
   ],
   "source": [
    "matrix_distance(pairwise_distance_with_indel)"
   ]
  },
  {
   "cell_type": "code",
   "execution_count": 81,
   "metadata": {
    "collapsed": true
   },
   "outputs": [],
   "source": [
    "# Manual checks for the no indel program"
   ]
  },
  {
   "cell_type": "code",
   "execution_count": 82,
   "metadata": {
    "collapsed": false
   },
   "outputs": [
    {
     "data": {
      "text/plain": [
       "0.3125"
      ]
     },
     "execution_count": 82,
     "metadata": {},
     "output_type": "execute_result"
    }
   ],
   "source": [
    "# S1 vs S2 manually found to be 0.3125\n",
    "pairwise_distance_no_indel(S1,S2)"
   ]
  },
  {
   "cell_type": "code",
   "execution_count": 83,
   "metadata": {
    "collapsed": false
   },
   "outputs": [
    {
     "data": {
      "text/plain": [
       "0.3548387096774194"
      ]
     },
     "execution_count": 83,
     "metadata": {},
     "output_type": "execute_result"
    }
   ],
   "source": [
    "#S2 vs S4 manually found to be 0.354\n",
    "pairwise_distance_no_indel(S2,S4)"
   ]
  },
  {
   "cell_type": "code",
   "execution_count": 84,
   "metadata": {
    "collapsed": true
   },
   "outputs": [],
   "source": [
    "# Manual checks for the indel program"
   ]
  },
  {
   "cell_type": "code",
   "execution_count": 85,
   "metadata": {
    "collapsed": false
   },
   "outputs": [
    {
     "data": {
      "text/plain": [
       "0.37142857142857144"
      ]
     },
     "execution_count": 85,
     "metadata": {},
     "output_type": "execute_result"
    }
   ],
   "source": [
    "# S1 vs S2 manually found to be 0.3714\n",
    "pairwise_distance_with_indel(S1,S2)"
   ]
  },
  {
   "cell_type": "code",
   "execution_count": 86,
   "metadata": {
    "collapsed": false
   },
   "outputs": [
    {
     "data": {
      "text/plain": [
       "0.4"
      ]
     },
     "execution_count": 86,
     "metadata": {},
     "output_type": "execute_result"
    }
   ],
   "source": [
    "# S2 vs S4 manually found to be 0.4\n",
    "pairwise_distance_with_indel(S2,S4)"
   ]
  }
 ],
 "metadata": {
  "anaconda-cloud": {},
  "kernelspec": {
   "display_name": "Python [default]",
   "language": "python",
   "name": "python3"
  },
  "language_info": {
   "codemirror_mode": {
    "name": "ipython",
    "version": 3
   },
   "file_extension": ".py",
   "mimetype": "text/x-python",
   "name": "python",
   "nbconvert_exporter": "python",
   "pygments_lexer": "ipython3",
   "version": "3.5.2"
  }
 },
 "nbformat": 4,
 "nbformat_minor": 1
}
